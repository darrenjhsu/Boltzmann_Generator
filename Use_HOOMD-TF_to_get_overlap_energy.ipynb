{
 "cells": [
  {
   "cell_type": "code",
   "execution_count": 122,
   "id": "695c57ed",
   "metadata": {},
   "outputs": [],
   "source": [
    "# disable GPU. Remove this if you've compiled HOOMD for GPU\n",
    "import os\n",
    "os.environ['CUDA_VISIBLE_DEVICES'] = '-1'\n",
    "\n",
    "import hoomd\n",
    "from hoomd import hpmc\n",
    "import numpy as np\n",
    "import hoomd.htf as htf\n",
    "import tensorflow as tf"
   ]
  },
  {
   "cell_type": "code",
   "execution_count": null,
   "id": "9e0c0659",
   "metadata": {},
   "outputs": [],
   "source": []
  },
  {
   "cell_type": "code",
   "execution_count": 123,
   "id": "6dfd87d1",
   "metadata": {},
   "outputs": [],
   "source": [
    "phi = 0.75 # packing fraction\n",
    "sigma = 1\n",
    "N = 64\n",
    "L = (N*(np.pi*0.25*sigma**2)/phi)**0.5"
   ]
  },
  {
   "cell_type": "code",
   "execution_count": 124,
   "id": "5546dd37",
   "metadata": {},
   "outputs": [],
   "source": [
    "class WCAPotential(htf.SimModel):\n",
    "    def setup(self):\n",
    "        self.avg_rdf = tf.keras.metrics.MeanTensor()\n",
    "    def compute(self, nlist):\n",
    "        # Use Weeks-Chandler-Anderson (WCA) repulisve potential\n",
    "        r12 = htf.nlist_rinv(nlist)**12 # nlist_rinv is neighbor 1 / r^12\n",
    "        # make it so anything above 2^1/6 is 0\n",
    "        r = tf.norm(nlist[:,:,:2], axis=2)\n",
    "        pair_energy = tf.cast(r < 2**(1/6), tf.float32) * r12\n",
    "        particle_energy = tf.reduce_sum(pair_energy, axis=1) # sum over neighbors  \n",
    "        all_energy = tf.reduce_sum(particle_energy)\n",
    "#         print(particle_energy)\n",
    "#         self.particle_e = particle_energy\n",
    "#         forces = htf.compute_nlist_forces(nlist, particle_energy)\n",
    "        # compute rdf\n",
    "#         inst_rdf = htf.compute_rdf(nlist, [0, 3.5])\n",
    "#         self.avg_rdf.update_state(inst_rdf)\n",
    "        return all_energy"
   ]
  },
  {
   "cell_type": "code",
   "execution_count": 125,
   "id": "959071db",
   "metadata": {},
   "outputs": [],
   "source": [
    "hoomd.context.initialize('')\n",
    "box = hoomd.data.boxdim(L=L,dimensions=2)\n",
    "snap = hoomd.data.make_snapshot(N=N,particle_types=['A'],box=box)\n",
    "a = L/np.sqrt(N)\n",
    "snap.particles.position[:] = [(i,j,0) for i in np.arange(-L/2,L/2,a) for j in np.arange(-L/2,L/2,a)]"
   ]
  },
  {
   "cell_type": "code",
   "execution_count": 126,
   "id": "9b38f1a9",
   "metadata": {},
   "outputs": [
    {
     "name": "stdout",
     "output_type": "stream",
     "text": [
      "notice(2): Group \"all\" created containing 64 particles\n"
     ]
    }
   ],
   "source": [
    "system = hoomd.init.read_snapshot(snap)\n",
    "hoomd.md.integrate.mode_standard(dt=0.001)\n",
    "hoomd.md.integrate.nvt(group=hoomd.group.all(), kT=1e-6, tau=0.5).randomize_velocities(seed=1)\n"
   ]
  },
  {
   "cell_type": "code",
   "execution_count": 127,
   "id": "df66e168",
   "metadata": {},
   "outputs": [
    {
     "name": "stdout",
     "output_type": "stream",
     "text": [
      "notice(2): Force mode is FORCE_MODE.hoomd2tf \n",
      "notice(2): Starting TensorflowCompute \n",
      "notice(2): completed reallocate\n"
     ]
    }
   ],
   "source": [
    "model = WCAPotential(32, output_forces=False)\n",
    "nlist = hoomd.md.nlist.cell()\n",
    "tfcompute = htf.tfcompute(model)\n",
    "tfcompute.attach(nlist, r_cut=3, save_output_period=1)\n"
   ]
  },
  {
   "cell_type": "code",
   "execution_count": 128,
   "id": "bd389e2e",
   "metadata": {},
   "outputs": [
    {
     "name": "stdout",
     "output_type": "stream",
     "text": [
      "notice(2): -- Neighborlist exclusion statistics -- :\n",
      "notice(2): Particles with 0 exclusions             : 64\n",
      "notice(2): Neighbors included by diameter          : no\n",
      "notice(2): Neighbors excluded when in the same body: no\n"
     ]
    }
   ],
   "source": [
    "hoomd.run(1, quiet=True)"
   ]
  },
  {
   "cell_type": "code",
   "execution_count": 129,
   "id": "cfe5ca1b",
   "metadata": {},
   "outputs": [
    {
     "data": {
      "text/plain": [
       "<tf.Tensor: shape=(), dtype=float32, numpy=194.11232>"
      ]
     },
     "execution_count": 129,
     "metadata": {},
     "output_type": "execute_result"
    }
   ],
   "source": [
    "model.compute(nlist=tfcompute.get_nlist_array().astype(np.float32))"
   ]
  },
  {
   "cell_type": "code",
   "execution_count": 132,
   "id": "5c7a74d3",
   "metadata": {},
   "outputs": [
    {
     "name": "stdout",
     "output_type": "stream",
     "text": [
      "tf.Tensor(226.8374, shape=(), dtype=float32)\n",
      "tf.Tensor(232.4011, shape=(), dtype=float32)\n",
      "tf.Tensor(236.71341, shape=(), dtype=float32)\n",
      "tf.Tensor(241.44055, shape=(), dtype=float32)\n",
      "tf.Tensor(250.7398, shape=(), dtype=float32)\n",
      "tf.Tensor(262.47394, shape=(), dtype=float32)\n",
      "tf.Tensor(274.72894, shape=(), dtype=float32)\n",
      "tf.Tensor(286.48785, shape=(), dtype=float32)\n",
      "tf.Tensor(310.7634, shape=(), dtype=float32)\n",
      "tf.Tensor(294.2164, shape=(), dtype=float32)\n",
      "tf.Tensor(305.02173, shape=(), dtype=float32)\n",
      "tf.Tensor(318.97366, shape=(), dtype=float32)\n",
      "tf.Tensor(334.28128, shape=(), dtype=float32)\n",
      "tf.Tensor(332.7252, shape=(), dtype=float32)\n",
      "tf.Tensor(363.107, shape=(), dtype=float32)\n",
      "tf.Tensor(360.46747, shape=(), dtype=float32)\n",
      "tf.Tensor(383.5398, shape=(), dtype=float32)\n",
      "tf.Tensor(399.557, shape=(), dtype=float32)\n",
      "tf.Tensor(416.23804, shape=(), dtype=float32)\n",
      "tf.Tensor(402.40552, shape=(), dtype=float32)\n",
      "tf.Tensor(417.67685, shape=(), dtype=float32)\n",
      "tf.Tensor(424.05737, shape=(), dtype=float32)\n",
      "tf.Tensor(457.38635, shape=(), dtype=float32)\n",
      "tf.Tensor(471.46457, shape=(), dtype=float32)\n",
      "tf.Tensor(500.67242, shape=(), dtype=float32)\n",
      "tf.Tensor(519.4542, shape=(), dtype=float32)\n",
      "tf.Tensor(638.35864, shape=(), dtype=float32)\n",
      "tf.Tensor(642.7428, shape=(), dtype=float32)\n",
      "tf.Tensor(703.4766, shape=(), dtype=float32)\n",
      "tf.Tensor(712.8403, shape=(), dtype=float32)\n",
      "tf.Tensor(654.5674, shape=(), dtype=float32)\n",
      "tf.Tensor(651.2143, shape=(), dtype=float32)\n",
      "tf.Tensor(696.8256, shape=(), dtype=float32)\n",
      "tf.Tensor(817.5025, shape=(), dtype=float32)\n",
      "tf.Tensor(838.9251, shape=(), dtype=float32)\n",
      "tf.Tensor(838.3245, shape=(), dtype=float32)\n",
      "tf.Tensor(806.4228, shape=(), dtype=float32)\n",
      "tf.Tensor(780.277, shape=(), dtype=float32)\n",
      "tf.Tensor(727.657, shape=(), dtype=float32)\n",
      "tf.Tensor(704.6221, shape=(), dtype=float32)\n",
      "tf.Tensor(873.40125, shape=(), dtype=float32)\n",
      "tf.Tensor(841.7495, shape=(), dtype=float32)\n",
      "tf.Tensor(745.6207, shape=(), dtype=float32)\n",
      "tf.Tensor(917.9314, shape=(), dtype=float32)\n",
      "tf.Tensor(963.58716, shape=(), dtype=float32)\n",
      "tf.Tensor(983.3033, shape=(), dtype=float32)\n",
      "tf.Tensor(1025.7557, shape=(), dtype=float32)\n",
      "tf.Tensor(1125.0459, shape=(), dtype=float32)\n",
      "tf.Tensor(1220.8666, shape=(), dtype=float32)\n",
      "tf.Tensor(1302.4711, shape=(), dtype=float32)\n",
      "tf.Tensor(1278.8236, shape=(), dtype=float32)\n",
      "tf.Tensor(1191.5276, shape=(), dtype=float32)\n",
      "tf.Tensor(1210.1666, shape=(), dtype=float32)\n",
      "tf.Tensor(1291.2842, shape=(), dtype=float32)\n",
      "tf.Tensor(1292.8212, shape=(), dtype=float32)\n",
      "tf.Tensor(1334.6921, shape=(), dtype=float32)\n",
      "tf.Tensor(1374.9023, shape=(), dtype=float32)\n",
      "tf.Tensor(1544.273, shape=(), dtype=float32)\n",
      "tf.Tensor(1658.8313, shape=(), dtype=float32)\n",
      "tf.Tensor(2002.8422, shape=(), dtype=float32)\n",
      "tf.Tensor(2076.9006, shape=(), dtype=float32)\n",
      "tf.Tensor(2169.2737, shape=(), dtype=float32)\n",
      "tf.Tensor(2151.4658, shape=(), dtype=float32)\n",
      "tf.Tensor(2074.8909, shape=(), dtype=float32)\n",
      "tf.Tensor(1860.3103, shape=(), dtype=float32)\n",
      "tf.Tensor(2359.6396, shape=(), dtype=float32)\n",
      "tf.Tensor(3121.115, shape=(), dtype=float32)\n",
      "tf.Tensor(3535.1904, shape=(), dtype=float32)\n",
      "tf.Tensor(4320.9155, shape=(), dtype=float32)\n",
      "tf.Tensor(5715.664, shape=(), dtype=float32)\n",
      "tf.Tensor(5821.1484, shape=(), dtype=float32)\n",
      "tf.Tensor(3452.0889, shape=(), dtype=float32)\n",
      "tf.Tensor(3589.2095, shape=(), dtype=float32)\n",
      "tf.Tensor(3426.0054, shape=(), dtype=float32)\n",
      "tf.Tensor(3951.8154, shape=(), dtype=float32)\n",
      "tf.Tensor(3409.149, shape=(), dtype=float32)\n",
      "tf.Tensor(3779.98, shape=(), dtype=float32)\n",
      "tf.Tensor(4132.267, shape=(), dtype=float32)\n",
      "tf.Tensor(5057.829, shape=(), dtype=float32)\n",
      "tf.Tensor(6067.958, shape=(), dtype=float32)\n",
      "tf.Tensor(5878.146, shape=(), dtype=float32)\n",
      "tf.Tensor(6128.326, shape=(), dtype=float32)\n",
      "tf.Tensor(4614.2295, shape=(), dtype=float32)\n",
      "tf.Tensor(5254.5957, shape=(), dtype=float32)\n",
      "tf.Tensor(6566.121, shape=(), dtype=float32)\n",
      "tf.Tensor(8324.576, shape=(), dtype=float32)\n",
      "tf.Tensor(9466.947, shape=(), dtype=float32)\n",
      "tf.Tensor(6495.911, shape=(), dtype=float32)\n",
      "tf.Tensor(6088.6816, shape=(), dtype=float32)\n",
      "tf.Tensor(5966.7056, shape=(), dtype=float32)\n",
      "tf.Tensor(6469.6455, shape=(), dtype=float32)\n",
      "tf.Tensor(7698.7695, shape=(), dtype=float32)\n",
      "tf.Tensor(10098.706, shape=(), dtype=float32)\n",
      "tf.Tensor(10867.327, shape=(), dtype=float32)\n",
      "tf.Tensor(8772.795, shape=(), dtype=float32)\n",
      "tf.Tensor(9544.753, shape=(), dtype=float32)\n",
      "tf.Tensor(10243.347, shape=(), dtype=float32)\n",
      "tf.Tensor(9297.349, shape=(), dtype=float32)\n",
      "tf.Tensor(13067.58, shape=(), dtype=float32)\n",
      "tf.Tensor(14109.419, shape=(), dtype=float32)\n"
     ]
    }
   ],
   "source": [
    "for i in range(100):\n",
    "    hoomd.run(1, quiet=True)\n",
    "    print(model.compute(nlist=tfcompute.get_nlist_array().astype(np.float32)))\n",
    "    for particle in system.particles:\n",
    "        particle.position += np.random.random(3) * np.array([1,1,0]) * 0.05"
   ]
  },
  {
   "cell_type": "code",
   "execution_count": 108,
   "id": "0800df8b",
   "metadata": {},
   "outputs": [],
   "source": [
    "hoomd.run(1, quiet=True)"
   ]
  },
  {
   "cell_type": "code",
   "execution_count": 109,
   "id": "074854af",
   "metadata": {},
   "outputs": [
    {
     "data": {
      "text/plain": [
       "<tf.Tensor: shape=(), dtype=float32, numpy=2856122.5>"
      ]
     },
     "execution_count": 109,
     "metadata": {},
     "output_type": "execute_result"
    }
   ],
   "source": [
    "model.compute(nlist=tfcompute.get_nlist_array().astype(np.float32))"
   ]
  },
  {
   "cell_type": "code",
   "execution_count": 101,
   "id": "23a72fe7",
   "metadata": {},
   "outputs": [
    {
     "data": {
      "text/plain": [
       "array([0.73006422, 0.52548487, 0.        ])"
      ]
     },
     "execution_count": 101,
     "metadata": {},
     "output_type": "execute_result"
    }
   ],
   "source": [
    "np.random.random(3) * np.array([1,1,0])"
   ]
  },
  {
   "cell_type": "code",
   "execution_count": 100,
   "id": "750a787c",
   "metadata": {},
   "outputs": [
    {
     "name": "stdout",
     "output_type": "stream",
     "text": [
      "(-3.5967348725656487, -3.24707630315433, -0.4493110846659958)\n",
      "(-4.042360730082015, -2.90682219606333, 0.12716922378197393)\n",
      "(-3.7365407798278802, -1.997068670846132, -0.107777505751808)\n",
      "(-3.1537886452654744, -0.9938706680494237, 0.08760893559286054)\n",
      "(-3.9279176023429017, 0.4587927575875879, -0.013451928946464187)\n",
      "(-3.1035622082115792, 1.8716796148166566, -0.28022139041824345)\n",
      "(-3.1769141349122663, 2.1290269361771066, -0.11355359032426393)\n",
      "(-3.1007543606852304, 3.4897369155052753, -0.19316347232043463)\n",
      "(-2.69404156681761, -4.047146952712823, 0.108963950401471)\n",
      "(-2.475723371682935, -2.40039099117915, 0.24173231957715624)\n",
      "(-2.7027651207651644, -1.222749902873934, 0.10275107687200413)\n",
      "(-2.591538169127131, -0.24648686535559894, -0.3481529186701725)\n",
      "(-2.7268872238665165, 0.3036626391703729, 0.48773757034832244)\n",
      "(-2.8748161384988435, 1.062384105864309, 0.38409050320088456)\n",
      "(-2.1911224602577706, 2.2104861507258335, -0.26681935676729407)\n",
      "(-2.2372433149893984, 3.2573332824696664, 0.4540703800728946)\n",
      "(-1.259923235039496, -3.563869272361372, -0.28474749855709724)\n",
      "(-1.3826303787707417, -2.83559609238546, 0.20196860230543867)\n",
      "(-1.4344078014403356, -1.5141974851446627, -0.0988022605881268)\n",
      "(-1.5860813560118476, -0.5585272583309587, -0.07578704701550809)\n",
      "(-1.1693894524575976, 0.5571331691957511, -0.2022935515450428)\n",
      "(-1.390333806206562, 1.284497782379809, 0.15204090994451247)\n",
      "(-1.588310211024004, 2.0742892594605924, 0.23940956811247638)\n",
      "(-1.2927256587406073, 3.524183897985369, 0.061335367522966755)\n",
      "(-0.729463240812843, -3.9186057111234094, -0.28247927843295817)\n",
      "(-0.5158045237041786, -2.600061638514162, -0.3181503498680335)\n",
      "(-0.15093928595995243, -1.9861925684851478, -0.3039572402716063)\n",
      "(-0.5879269907314251, -0.9203070129758624, -0.21301442541979654)\n",
      "(-1.007921511108842, 0.19168988612001742, 0.021994719036877997)\n",
      "(-0.42103929321149103, 1.488994868366421, 0.486263545790798)\n",
      "(-0.6223419867956473, 2.1376779514618507, 0.06739648940526621)\n",
      "(-0.13268488603496698, 3.0881312298427135, 0.3845715470269572)\n",
      "(0.846083519580704, -3.8020060891230987, 0.4878186901753907)\n",
      "(0.6138385716762121, -2.651742923715563, 0.26152187501732826)\n",
      "(0.7923787355922879, -1.8564911840580764, -0.1540246106461015)\n",
      "(0.8665378669163588, -0.5308577069845071, -0.3338922113576124)\n",
      "(0.009405135165805848, 0.074728351874433, 0.13183663426228243)\n",
      "(0.06718611173761356, 1.2532578498626696, 0.45066745888990223)\n",
      "(0.9197979868268036, 2.175172541230193, 0.3985215711941117)\n",
      "(0.8139100055063605, 3.963046763811684, 0.03936622751804031)\n",
      "(1.6361191575386016, -3.7414384967586773, -0.3678725579118507)\n",
      "(1.3397955082845252, -2.731129777666435, -0.3592102954581119)\n",
      "(1.8297083441192168, -1.1374113406230195, -0.07591577623279189)\n",
      "(1.5088087334311189, -0.5198769310901785, 0.4147937988128152)\n",
      "(1.7502214755717218, 0.06960100108044776, 0.16928405593759555)\n",
      "(1.6093582613508568, 1.0909475921147869, -0.4076779866742024)\n",
      "(1.850917817419983, 2.113964192592308, -0.4867369922880158)\n",
      "(1.4446638743382612, 3.6150191473864237, -0.020956257660475264)\n",
      "(2.2297358620462084, -3.3297977863045674, 0.09231383418989347)\n",
      "(2.8775667390628943, -2.490059013735803, 0.24575692831076867)\n",
      "(2.9996972010382166, -1.8340246892818042, 0.18123077730718884)\n",
      "(2.0687085456031706, -0.9057749030784948, 0.17620937530349412)\n",
      "(3.0060326966516424, 0.03557179782615675, -0.05848499199114965)\n",
      "(2.8645686909386994, 1.0650388358956642, -0.16934394209154702)\n",
      "(2.848527569469094, 2.047430043294951, -0.3097727323298458)\n",
      "(2.735049517739602, 4.029142428744925, 0.010733634136748882)\n",
      "(3.228496548500229, -3.452742526899508, -0.23098857673013762)\n",
      "(3.571606266143411, -2.213504096556752, 0.2256337509733759)\n",
      "(3.074335397573173, -1.4421490813615314, -0.2014181198400965)\n",
      "(3.0828371861453143, -0.5115757270839398, -0.39453002789580083)\n",
      "(3.9212519382439357, 0.2858244095146631, 0.29224649126656443)\n",
      "(3.410710612878301, 1.7000807744808446, -0.4439797422922631)\n",
      "(3.592925093850911, 2.3969940566021117, -0.11434888389309539)\n",
      "(3.9785485380819976, 3.268795457020592, 0.000575554062299255)\n"
     ]
    }
   ],
   "source": [
    "for i in system.particles:\n",
    "    print(i.position)"
   ]
  },
  {
   "cell_type": "code",
   "execution_count": 50,
   "id": "09a6dd18",
   "metadata": {},
   "outputs": [
    {
     "data": {
      "text/plain": [
       "array([[[ 1.02332687,  1.02332687,  0.        ,  0.        ],\n",
       "        [ 1.02332687,  2.04665351,  0.        ,  0.        ],\n",
       "        [ 2.04665351,  1.02332687,  0.        ,  0.        ],\n",
       "        ...,\n",
       "        [ 0.        ,  0.        ,  0.        ,  0.        ],\n",
       "        [ 0.        ,  0.        ,  0.        ,  0.        ],\n",
       "        [ 0.        ,  0.        ,  0.        ,  0.        ]],\n",
       "\n",
       "       [[ 1.02332687,  0.        ,  0.        ,  0.        ],\n",
       "        [ 1.02332687,  1.02332664,  0.        ,  0.        ],\n",
       "        [ 1.02332687,  2.04665339,  0.        ,  0.        ],\n",
       "        ...,\n",
       "        [ 0.        ,  0.        ,  0.        ,  0.        ],\n",
       "        [ 0.        ,  0.        ,  0.        ,  0.        ],\n",
       "        [ 0.        ,  0.        ,  0.        ,  0.        ]],\n",
       "\n",
       "       [[ 1.02332687, -1.02332664,  0.        ,  0.        ],\n",
       "        [ 1.02332687,  0.        ,  0.        ,  0.        ],\n",
       "        [ 1.02332687,  1.02332675,  0.        ,  0.        ],\n",
       "        ...,\n",
       "        [ 0.        ,  0.        ,  0.        ,  0.        ],\n",
       "        [ 0.        ,  0.        ,  0.        ,  0.        ],\n",
       "        [ 0.        ,  0.        ,  0.        ,  0.        ]],\n",
       "\n",
       "       ...,\n",
       "\n",
       "       [[ 2.04665337, -2.04665351,  0.        ,  0.        ],\n",
       "        [ 1.0233265 , -2.04665351,  0.        ,  0.        ],\n",
       "        [-2.04665339, -2.04665351,  0.        ,  0.        ],\n",
       "        ...,\n",
       "        [ 0.        ,  0.        ,  0.        ,  0.        ],\n",
       "        [ 0.        ,  0.        ,  0.        ,  0.        ],\n",
       "        [ 0.        ,  0.        ,  0.        ,  0.        ]],\n",
       "\n",
       "       [[ 2.04665337,  2.04665314,  0.        ,  0.        ],\n",
       "        [ 2.04665337, -2.04665351,  0.        ,  0.        ],\n",
       "        [ 2.04665337, -1.02332675,  0.        ,  0.        ],\n",
       "        ...,\n",
       "        [ 0.        ,  0.        ,  0.        ,  0.        ],\n",
       "        [ 0.        ,  0.        ,  0.        ,  0.        ],\n",
       "        [ 0.        ,  0.        ,  0.        ,  0.        ]],\n",
       "\n",
       "       [[ 2.04665337,  2.04665337,  0.        ,  0.        ],\n",
       "        [ 1.0233265 ,  2.04665337,  0.        ,  0.        ],\n",
       "        [-2.04665339,  2.04665337,  0.        ,  0.        ],\n",
       "        ...,\n",
       "        [ 0.        ,  0.        ,  0.        ,  0.        ],\n",
       "        [ 0.        ,  0.        ,  0.        ,  0.        ],\n",
       "        [ 0.        ,  0.        ,  0.        ,  0.        ]]])"
      ]
     },
     "execution_count": 50,
     "metadata": {},
     "output_type": "execute_result"
    }
   ],
   "source": [
    "tfcompute.get_nlist_array()"
   ]
  },
  {
   "cell_type": "code",
   "execution_count": 62,
   "id": "98ee34ce",
   "metadata": {},
   "outputs": [
    {
     "name": "stdout",
     "output_type": "stream",
     "text": [
      "notice(2): -- Neighborlist exclusion statistics -- :\n",
      "notice(2): Particles with 0 exclusions             : 64\n",
      "notice(2): Neighbors included by diameter          : no\n",
      "notice(2): Neighbors excluded when in the same body: no\n",
      "** starting run **\n",
      "Time 00:00:08 | Step 1 / 1 | TPS 14.9403 | ETA 00:00:00\n",
      "Average TPS: 14.8243\n",
      "---------\n",
      "-- Neighborlist stats:\n",
      "0 normal updates / 1 forced updates / 0 dangerous updates\n",
      "n_neigh_min: 36 / n_neigh_max: 36 / n_neigh_avg: 36\n",
      "shortest rebuild period: 100\n",
      "-- Cell list stats:\n",
      "Dimension: 2, 2, 1\n",
      "n_min    : 12 / n_max: 21 / n_avg: 16\n",
      "** run complete **\n"
     ]
    }
   ],
   "source": [
    "hoomd.run(1)"
   ]
  },
  {
   "cell_type": "code",
   "execution_count": 63,
   "id": "0c899966",
   "metadata": {},
   "outputs": [
    {
     "data": {
      "text/plain": [
       "array([[[ 1.02173102,  1.03329851,  0.        ,  0.        ],\n",
       "        [ 1.01350555,  2.0431701 ,  0.        ,  0.        ],\n",
       "        [ 2.04569406,  0.00358522,  0.        ,  0.        ],\n",
       "        ...,\n",
       "        [ 0.        ,  0.        ,  0.        ,  0.        ],\n",
       "        [ 0.        ,  0.        ,  0.        ,  0.        ],\n",
       "        [ 0.        ,  0.        ,  0.        ,  0.        ]],\n",
       "\n",
       "       [[ 1.02415544,  0.00624493,  0.        ,  0.        ],\n",
       "        [ 1.01592997,  1.01611653,  0.        ,  0.        ],\n",
       "        [ 1.02538225,  2.04565783,  0.        ,  0.        ],\n",
       "        ...,\n",
       "        [ 0.        ,  0.        ,  0.        ,  0.        ],\n",
       "        [ 0.        ,  0.        ,  0.        ,  0.        ],\n",
       "        [ 0.        ,  0.        ,  0.        ,  0.        ]],\n",
       "\n",
       "       [[ 0.00247249,  2.04416319,  0.        ,  0.        ],\n",
       "        [ 1.02305749, -1.0147478 ,  0.        ,  0.        ],\n",
       "        [ 1.01483202, -0.0048762 ,  0.        ,  0.        ],\n",
       "        ...,\n",
       "        [ 0.        ,  0.        ,  0.        ,  0.        ],\n",
       "        [ 0.        ,  0.        ,  0.        ,  0.        ],\n",
       "        [ 0.        ,  0.        ,  0.        ,  0.        ]],\n",
       "\n",
       "       ...,\n",
       "\n",
       "       [[ 1.02239707, -1.02768207,  0.        ,  0.        ],\n",
       "        [ 2.04420888, -2.04718016,  0.        ,  0.        ],\n",
       "        [ 1.01267889, -2.04978768,  0.        ,  0.        ],\n",
       "        ...,\n",
       "        [ 0.        ,  0.        ,  0.        ,  0.        ],\n",
       "        [ 0.        ,  0.        ,  0.        ,  0.        ],\n",
       "        [ 0.        ,  0.        ,  0.        ,  0.        ]],\n",
       "\n",
       "       [[ 1.02693098, -2.04723252,  0.        ,  0.        ],\n",
       "        [-2.04039634, -2.04520273,  0.        ,  0.        ],\n",
       "        [-1.018611  ,  2.05117246,  0.        ,  0.        ],\n",
       "        ...,\n",
       "        [ 0.        ,  0.        ,  0.        ,  0.        ],\n",
       "        [ 0.        ,  0.        ,  0.        ,  0.        ],\n",
       "        [ 0.        ,  0.        ,  0.        ,  0.        ]],\n",
       "\n",
       "       [[ 2.04759819,  2.06106912,  0.        ,  0.        ],\n",
       "        [ 1.02344274,  2.05482418,  0.        ,  0.        ],\n",
       "        [-2.04716052,  2.05384763,  0.        ,  0.        ],\n",
       "        ...,\n",
       "        [ 0.        ,  0.        ,  0.        ,  0.        ],\n",
       "        [ 0.        ,  0.        ,  0.        ,  0.        ],\n",
       "        [ 0.        ,  0.        ,  0.        ,  0.        ]]])"
      ]
     },
     "execution_count": 63,
     "metadata": {},
     "output_type": "execute_result"
    }
   ],
   "source": [
    "tfcompute.get_nlist_array()"
   ]
  },
  {
   "cell_type": "code",
   "execution_count": 64,
   "id": "0d74bce9",
   "metadata": {},
   "outputs": [
    {
     "data": {
      "text/plain": [
       "[array([194.46597], dtype=float32)]"
      ]
     },
     "execution_count": 64,
     "metadata": {},
     "output_type": "execute_result"
    }
   ],
   "source": [
    "tfcompute.outputs"
   ]
  },
  {
   "cell_type": "code",
   "execution_count": null,
   "id": "91684348",
   "metadata": {},
   "outputs": [],
   "source": []
  }
 ],
 "metadata": {
  "kernelspec": {
   "display_name": "Python 3",
   "language": "python",
   "name": "python3"
  },
  "language_info": {
   "codemirror_mode": {
    "name": "ipython",
    "version": 3
   },
   "file_extension": ".py",
   "mimetype": "text/x-python",
   "name": "python",
   "nbconvert_exporter": "python",
   "pygments_lexer": "ipython3",
   "version": "3.7.10"
  }
 },
 "nbformat": 4,
 "nbformat_minor": 5
}
